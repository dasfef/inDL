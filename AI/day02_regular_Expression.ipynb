{
 "cells": [
  {
   "cell_type": "code",
   "execution_count": null,
   "metadata": {},
   "outputs": [],
   "source": [
    "# 정규표현식(Regular Expression)\n",
    "import re\n",
    "\n",
    "def solution(new_id) :\n",
    "    #1\n",
    "    new_id = new_id.lower()\n",
    "\n",
    "    #2\n",
    "    re.sub('[^0-9a-z\\-_.]*', \"\", new_id)\n",
    "\n",
    "    #3\n",
    "    re.sub('[.]+', \".\", new_id)\n",
    "\n",
    "    #4\n",
    "    re.sub('^[.][.]$', \"\", new_id)"
   ]
  }
 ],
 "metadata": {
  "language_info": {
   "name": "python"
  },
  "orig_nbformat": 4
 },
 "nbformat": 4,
 "nbformat_minor": 2
}
