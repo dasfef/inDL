{
 "cells": [
  {
   "cell_type": "code",
   "execution_count": 1,
   "metadata": {},
   "outputs": [
    {
     "ename": "TypeError",
     "evalue": "unsupported operand type(s) for +: 'int' and 'str'",
     "output_type": "error",
     "traceback": [
      "\u001b[0;31m---------------------------------------------------------------------------\u001b[0m",
      "\u001b[0;31mTypeError\u001b[0m                                 Traceback (most recent call last)",
      "Cell \u001b[0;32mIn[1], line 4\u001b[0m\n\u001b[1;32m      1\u001b[0m x \u001b[39m=\u001b[39m \u001b[39m5\u001b[39m\n\u001b[1;32m      2\u001b[0m y \u001b[39m=\u001b[39m \u001b[39m'\u001b[39m\u001b[39m2\u001b[39m\u001b[39m'\u001b[39m\n\u001b[0;32m----> 4\u001b[0m \u001b[39mprint\u001b[39m(x \u001b[39m+\u001b[39;49m y)\n",
      "\u001b[0;31mTypeError\u001b[0m: unsupported operand type(s) for +: 'int' and 'str'"
     ]
    }
   ],
   "source": [
    "x = 5\n",
    "y = '2'\n",
    "\n",
    "print(x + y)"
   ]
  },
  {
   "cell_type": "code",
   "execution_count": 4,
   "metadata": {},
   "outputs": [
    {
     "name": "stdout",
     "output_type": "stream",
     "text": [
      "Hello World\n",
      "hello WoORLD\n",
      "He's\n"
     ]
    }
   ],
   "source": [
    "print(\"Hello World\")\n",
    "print('hello WoORLD')\n",
    "print('He\\'s')"
   ]
  },
  {
   "cell_type": "code",
   "execution_count": 1,
   "metadata": {},
   "outputs": [
    {
     "data": {
      "text/plain": [
       "'bcde'"
      ]
     },
     "execution_count": 1,
     "metadata": {},
     "output_type": "execute_result"
    }
   ],
   "source": [
    "#Index Slicing\n",
    "\n",
    "x = \"abcdefg\"\n",
    "x[1:5]"
   ]
  },
  {
   "cell_type": "code",
   "execution_count": 3,
   "metadata": {},
   "outputs": [
    {
     "data": {
      "text/plain": [
       "'g'"
      ]
     },
     "execution_count": 3,
     "metadata": {},
     "output_type": "execute_result"
    }
   ],
   "source": [
    "list_z = ['a','b','c','d','e','f','g']\n",
    "\n",
    "list_z[-1]"
   ]
  },
  {
   "cell_type": "code",
   "execution_count": 11,
   "metadata": {},
   "outputs": [
    {
     "name": "stdout",
     "output_type": "stream",
     "text": [
      "dict_keys(['국어', '수학'])\n",
      "dict_values([50, 100])\n",
      "{'국어': 50, '수학': 100}\n"
     ]
    }
   ],
   "source": [
    "# Dictionary\n",
    "dict = {}\n",
    "dict['국어'] = 50\n",
    "dict['수학'] = 100\n",
    "\n",
    "print(dict.keys())\n",
    "print(dict.values())\n",
    "print(dict)"
   ]
  },
  {
   "cell_type": "code",
   "execution_count": 12,
   "metadata": {},
   "outputs": [
    {
     "name": "stdout",
     "output_type": "stream",
     "text": [
      "['a', 'b', 'c', 'd', 'e', 'f', 'g']\n"
     ]
    }
   ],
   "source": [
    "if len(x) == 4: print(x)\n",
    "else: print(list_z)"
   ]
  },
  {
   "cell_type": "code",
   "execution_count": 20,
   "metadata": {},
   "outputs": [
    {
     "name": "stdout",
     "output_type": "stream",
     "text": [
      "11\n"
     ]
    }
   ],
   "source": [
    "x = 5\n",
    "n = 12\n",
    "while(x > 0):\n",
    "    x = x + 1\n",
    "    if(n % x == 1):\n",
    "        break\n",
    "    \n",
    "print(x)"
   ]
  },
  {
   "cell_type": "code",
   "execution_count": 22,
   "metadata": {},
   "outputs": [
    {
     "name": "stdout",
     "output_type": "stream",
     "text": [
      "3\n"
     ]
    }
   ],
   "source": [
    "answer = 0\n",
    "n = 10\n",
    "x = 1\n",
    "\n",
    "for x in range(n):\n",
    "    x += 1\n",
    "    if (n % x == 1):\n",
    "        break\n",
    "\n",
    "print(x)"
   ]
  },
  {
   "cell_type": "code",
   "execution_count": 75,
   "metadata": {},
   "outputs": [
    {
     "data": {
      "text/html": [
       "<div>\n",
       "<style scoped>\n",
       "    .dataframe tbody tr th:only-of-type {\n",
       "        vertical-align: middle;\n",
       "    }\n",
       "\n",
       "    .dataframe tbody tr th {\n",
       "        vertical-align: top;\n",
       "    }\n",
       "\n",
       "    .dataframe thead th {\n",
       "        text-align: right;\n",
       "    }\n",
       "</style>\n",
       "<table border=\"1\" class=\"dataframe\">\n",
       "  <thead>\n",
       "    <tr style=\"text-align: right;\">\n",
       "      <th></th>\n",
       "      <th>0</th>\n",
       "    </tr>\n",
       "  </thead>\n",
       "  <tbody>\n",
       "    <tr>\n",
       "      <th>0</th>\n",
       "      <td>1</td>\n",
       "    </tr>\n",
       "    <tr>\n",
       "      <th>1</th>\n",
       "      <td>1</td>\n",
       "    </tr>\n",
       "    <tr>\n",
       "      <th>2</th>\n",
       "      <td>4</td>\n",
       "    </tr>\n",
       "  </tbody>\n",
       "</table>\n",
       "</div>"
      ],
      "text/plain": [
       "   0\n",
       "0  1\n",
       "1  1\n",
       "2  4"
      ]
     },
     "execution_count": 75,
     "metadata": {},
     "output_type": "execute_result"
    }
   ],
   "source": [
    "import numpy as np\n",
    "import tensorflow as tf\n",
    "import pandas as pd\n",
    "\n",
    "pd.DataFrame([1,1,4])"
   ]
  },
  {
   "cell_type": "code",
   "execution_count": 2,
   "metadata": {},
   "outputs": [],
   "source": [
    "import pandas"
   ]
  },
  {
   "cell_type": "code",
   "execution_count": 3,
   "metadata": {},
   "outputs": [],
   "source": [
    "import numpy"
   ]
  },
  {
   "cell_type": "code",
   "execution_count": 6,
   "metadata": {},
   "outputs": [
    {
     "name": "stdout",
     "output_type": "stream",
     "text": [
      "2.13.0\n"
     ]
    }
   ],
   "source": [
    "import tensorflow as tf\n",
    "print(tf.__version__)"
   ]
  },
  {
   "cell_type": "code",
   "execution_count": 81,
   "metadata": {},
   "outputs": [
    {
     "data": {
      "text/plain": [
       "{'a', 'b'}"
      ]
     },
     "execution_count": 81,
     "metadata": {},
     "output_type": "execute_result"
    }
   ],
   "source": [
    "set_z = set(['a','a','b'])\n",
    "set_z"
   ]
  },
  {
   "cell_type": "code",
   "execution_count": 80,
   "metadata": {},
   "outputs": [
    {
     "data": {
      "text/plain": [
       "set"
      ]
     },
     "execution_count": 80,
     "metadata": {},
     "output_type": "execute_result"
    }
   ],
   "source": [
    "# 데이터 타입 알아보는법\n",
    "type(set_z)"
   ]
  },
  {
   "cell_type": "code",
   "execution_count": 30,
   "metadata": {},
   "outputs": [
    {
     "name": "stdout",
     "output_type": "stream",
     "text": [
      "['584', '849', '493', '939', '392', '920']\n",
      "['493', '392']\n"
     ]
    }
   ],
   "source": [
    "# 문제1: 문자열 슬라이스와 주어진 문자열 비교하여 작은 수 찾기\n",
    "\n",
    "t = \"584939204\"\n",
    "p = \"500\"\n",
    "numList = []\n",
    "answer = []\n",
    "\n",
    "for i in range(len(t)):\n",
    "    if (i + 3 < len(t)):\n",
    "        numList.append(t[i:i+3])\n",
    "print(numList)\n",
    "\n",
    "for i in range(len(numList)):\n",
    "    for j in range(len(t)):\n",
    "        if(numList[i] <= p):\n",
    "            answer.append(numList[i])\n",
    "            break\n",
    "\n",
    "print(answer)"
   ]
  },
  {
   "cell_type": "code",
   "execution_count": 82,
   "metadata": {},
   "outputs": [],
   "source": [
    "# 선임분 코드\n",
    "\n",
    "def test1(t, p):\n",
    "    stack = []\n",
    "    for i in range(len(t) - len(p) + 1):\n",
    "        if t[i:i+len(p)] <= p:\n",
    "            stack.append(t[i:i+len(p)])\n",
    "\n",
    "    return stack"
   ]
  },
  {
   "cell_type": "code",
   "execution_count": 83,
   "metadata": {},
   "outputs": [
    {
     "data": {
      "text/plain": [
       "['141', '159']"
      ]
     },
     "execution_count": 83,
     "metadata": {},
     "output_type": "execute_result"
    }
   ],
   "source": [
    "test1('3141592', '271')"
   ]
  },
  {
   "cell_type": "code",
   "execution_count": 73,
   "metadata": {},
   "outputs": [
    {
     "name": "stdout",
     "output_type": "stream",
     "text": [
      "[3, 5, 5, -1]\n"
     ]
    }
   ],
   "source": [
    "# 문제3: 뒷큰수 배열에 담기\n",
    "\n",
    "numbers = [2,3,3,5]\n",
    "result = []\n",
    "\n",
    "for i in range(len(numbers)):\n",
    "    search = True\n",
    "    for j in range(i, len(numbers)):\n",
    "        if (numbers[i] < numbers[j]): \n",
    "            result.append(numbers[j])\n",
    "            search = True\n",
    "            break\n",
    "        elif(numbers[i] >= numbers[j]): \n",
    "            search = False\n",
    "    if (search == False): result.append(-1)\n",
    "\n",
    "print(result)"
   ]
  },
  {
   "cell_type": "code",
   "execution_count": 84,
   "metadata": {},
   "outputs": [
    {
     "ename": "IndexError",
     "evalue": "list index out of range",
     "output_type": "error",
     "traceback": [
      "\u001b[0;31m---------------------------------------------------------------------------\u001b[0m",
      "\u001b[0;31mIndexError\u001b[0m                                Traceback (most recent call last)",
      "Cell \u001b[0;32mIn[84], line 7\u001b[0m\n\u001b[1;32m      4\u001b[0m answer \u001b[39m=\u001b[39m [\u001b[39m-\u001b[39m\u001b[39m1\u001b[39m \u001b[39mfor\u001b[39;00m i \u001b[39min\u001b[39;00m \u001b[39mrange\u001b[39m(\u001b[39mlen\u001b[39m(numbers))]\n\u001b[1;32m      6\u001b[0m \u001b[39mfor\u001b[39;00m i, ele \u001b[39min\u001b[39;00m \u001b[39menumerate\u001b[39m(numbers):\n\u001b[0;32m----> 7\u001b[0m     \u001b[39mwhile\u001b[39;00m stack \u001b[39mand\u001b[39;00m numbers[stack[\u001b[39m-\u001b[39;49m\u001b[39m1\u001b[39;49m]] \u001b[39m<\u001b[39m numbers[i]:\n\u001b[1;32m      8\u001b[0m         answer[stack\u001b[39m.\u001b[39mpop()] \u001b[39m=\u001b[39m numbers[i]\n\u001b[1;32m     10\u001b[0m     stack\u001b[39m.\u001b[39mappend(i)\n",
      "\u001b[0;31mIndexError\u001b[0m: list index out of range"
     ]
    }
   ],
   "source": [
    "# 선임분 코드\n",
    "answer = []\n",
    "stack = [2,3,3,5]\n",
    "answer = [-1 for i in range(len(numbers))]\n",
    "\n",
    "for i, ele in enumerate(numbers):\n",
    "    while stack and numbers[stack[-1]] < numbers[i]:\n",
    "        answer[stack.pop()] = numbers[i]\n",
    "\n",
    "    stack.append(i)\n",
    "\n",
    "answer"
   ]
  },
  {
   "cell_type": "code",
   "execution_count": null,
   "metadata": {},
   "outputs": [],
   "source": [
    "# 시간 복잡도(빅오표기법)"
   ]
  },
  {
   "cell_type": "code",
   "execution_count": null,
   "metadata": {},
   "outputs": [],
   "source": []
  }
 ],
 "metadata": {
  "kernelspec": {
   "display_name": "ICT",
   "language": "python",
   "name": "python3"
  },
  "language_info": {
   "codemirror_mode": {
    "name": "ipython",
    "version": 3
   },
   "file_extension": ".py",
   "mimetype": "text/x-python",
   "name": "python",
   "nbconvert_exporter": "python",
   "pygments_lexer": "ipython3",
   "version": "3.9.7"
  },
  "orig_nbformat": 4
 },
 "nbformat": 4,
 "nbformat_minor": 2
}
