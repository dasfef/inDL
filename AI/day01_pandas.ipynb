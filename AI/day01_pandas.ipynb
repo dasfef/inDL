{
 "cells": [
  {
   "cell_type": "code",
   "execution_count": 2,
   "metadata": {},
   "outputs": [
    {
     "name": "stdout",
     "output_type": "stream",
     "text": [
      "1.4.2\n"
     ]
    }
   ],
   "source": [
    "# 판다스 데이터프레임 활용\n",
    "import pandas as pd\n",
    "\n",
    "print(pd.__version__)"
   ]
  },
  {
   "cell_type": "code",
   "execution_count": 6,
   "metadata": {},
   "outputs": [
    {
     "data": {
      "text/html": [
       "<div>\n",
       "<style scoped>\n",
       "    .dataframe tbody tr th:only-of-type {\n",
       "        vertical-align: middle;\n",
       "    }\n",
       "\n",
       "    .dataframe tbody tr th {\n",
       "        vertical-align: top;\n",
       "    }\n",
       "\n",
       "    .dataframe thead th {\n",
       "        text-align: right;\n",
       "    }\n",
       "</style>\n",
       "<table border=\"1\" class=\"dataframe\">\n",
       "  <thead>\n",
       "    <tr style=\"text-align: right;\">\n",
       "      <th></th>\n",
       "      <th>nums</th>\n",
       "    </tr>\n",
       "  </thead>\n",
       "  <tbody>\n",
       "    <tr>\n",
       "      <th>0</th>\n",
       "      <td>29</td>\n",
       "    </tr>\n",
       "    <tr>\n",
       "      <th>1</th>\n",
       "      <td>11</td>\n",
       "    </tr>\n",
       "    <tr>\n",
       "      <th>2</th>\n",
       "      <td>124</td>\n",
       "    </tr>\n",
       "    <tr>\n",
       "      <th>3</th>\n",
       "      <td>503</td>\n",
       "    </tr>\n",
       "    <tr>\n",
       "      <th>4</th>\n",
       "      <td>22</td>\n",
       "    </tr>\n",
       "    <tr>\n",
       "      <th>5</th>\n",
       "      <td>201</td>\n",
       "    </tr>\n",
       "  </tbody>\n",
       "</table>\n",
       "</div>"
      ],
      "text/plain": [
       "   nums\n",
       "0    29\n",
       "1    11\n",
       "2   124\n",
       "3   503\n",
       "4    22\n",
       "5   201"
      ]
     },
     "execution_count": 6,
     "metadata": {},
     "output_type": "execute_result"
    }
   ],
   "source": [
    "df = pd.DataFrame([29, 11, 124, 503, 22, 201], columns=['nums'])\n",
    "df"
   ]
  },
  {
   "cell_type": "code",
   "execution_count": 10,
   "metadata": {},
   "outputs": [
    {
     "name": "stdout",
     "output_type": "stream",
     "text": [
      "This price is 1000\n"
     ]
    }
   ],
   "source": [
    "print(\"This price is %d\" % 1000)"
   ]
  },
  {
   "cell_type": "code",
   "execution_count": 15,
   "metadata": {},
   "outputs": [
    {
     "name": "stdout",
     "output_type": "stream",
     "text": [
      "[1, 4, 9, 16, 25]\n"
     ]
    }
   ],
   "source": [
    "numbers = [1,2,3,4,5]\n",
    "squares = map(lambda x: x ** 2, numbers)\n",
    "print(list(squares))"
   ]
  },
  {
   "cell_type": "code",
   "execution_count": 137,
   "metadata": {},
   "outputs": [
    {
     "name": "stdout",
     "output_type": "stream",
     "text": [
      "720\n"
     ]
    }
   ],
   "source": [
    "from functools import reduce\n",
    "\n",
    "numbers = [1,2,3,4,5,6]\n",
    "counts = [10,9,8,7,6,5]\n",
    "\n",
    "result = reduce(lambda x,y: x * y, numbers)\n",
    "print(result)"
   ]
  },
  {
   "cell_type": "code",
   "execution_count": 125,
   "metadata": {},
   "outputs": [
    {
     "name": "stdout",
     "output_type": "stream",
     "text": [
      "[1, 16, 243, 4096, 78125]\n",
      "[3, 8, 15, 24, 35]\n"
     ]
    }
   ],
   "source": [
    "numbers = [1,2,3,4,5]\n",
    "numbers2 = [3,4,5,6,7]\n",
    "\n",
    "cal = map(lambda x,y: x ** y, numbers, numbers2)\n",
    "print(list(cal))\n",
    "print(list(map(lambda x,y: x * y, numbers, numbers2)))"
   ]
  },
  {
   "cell_type": "code",
   "execution_count": 43,
   "metadata": {},
   "outputs": [
    {
     "name": "stdout",
     "output_type": "stream",
     "text": [
      "eifjslfj@---#%@%6dkfjaiweefawjfidjf\n",
      "32\n"
     ]
    }
   ],
   "source": [
    "def solution(new_id):\n",
    "    error = ['-', '_', '.']\n",
    "    result = new_id.lower()\n",
    "    for i in range(len(result)):\n",
    "        if result[i] in error:\n",
    "            result.replace(error[0], \"\")\n",
    "    answer = result\n",
    "    return answer\n",
    "\n",
    "print(solution(\"Eifjslfj@---#%@%6dkfjaiweEFAWJFIDJF\"))\n",
    "print(len(solution(\"Eifjslfj@#%@%6dkfjaiweEFAWJFIDJF\")))"
   ]
  },
  {
   "cell_type": "code",
   "execution_count": 44,
   "metadata": {},
   "outputs": [
    {
     "data": {
      "text/plain": [
       "'0000eijfAWEFJ@#!#%jeiFAE'"
      ]
     },
     "execution_count": 44,
     "metadata": {},
     "output_type": "execute_result"
    }
   ],
   "source": [
    "test = \"----eijfAWEFJ@#!#%jeiFAE\"\n",
    "test.replace(\"-\", \"0\")"
   ]
  },
  {
   "cell_type": "code",
   "execution_count": null,
   "metadata": {},
   "outputs": [],
   "source": [
    "def solution(new_id) :\n",
    "    result = new_id.lower()\n",
    "    for i in range(len(result)):\n",
    "        "
   ]
  },
  {
   "cell_type": "code",
   "execution_count": 24,
   "metadata": {},
   "outputs": [
    {
     "name": "stdout",
     "output_type": "stream",
     "text": [
      "65\n",
      "122\n"
     ]
    }
   ],
   "source": [
    "print(ord('A'))\n",
    "print(ord('z'))"
   ]
  },
  {
   "cell_type": "code",
   "execution_count": null,
   "metadata": {},
   "outputs": [],
   "source": [
    "# [프로그래머스]신규 아이디 추천 문제 풀이(정규표현식 없이)\n",
    "# https://school.programmers.co.kr/learn/courses/30/lessons/72410?language=python3\n",
    "\n",
    "def solution(new_id):\n",
    "    answer = ''\n",
    "    \n",
    "    #1\n",
    "    new_id = new_id.lower()\n",
    "    \n",
    "    #2\n",
    "    for s in new_id:\n",
    "        if (s.isdigit() or s.isalpha() or s in ['-','_','.']):\n",
    "            answer += s\n",
    "    new_id = answer\n",
    "\n",
    "    #3\n",
    "    while '..' in new_id:\n",
    "        new_id = new_id.replace('..', '.')\n",
    "\n",
    "    #4\n",
    "    if new_id[0] == '.' and new_id :\n",
    "        new_id = new_id[1:]\n",
    "    if new_id[-1] == '.' and new_id :\n",
    "        new_id = new_id[:-1]\n",
    "\n",
    "    #5\n",
    "    if len(new_id) == 0:\n",
    "        new_id = 'a'\n",
    "\n",
    "    #6 \n",
    "    if len(new_id) >= 16:\n",
    "        new_id = new_id[:15]\n",
    "        if new_id[-1] == '.':\n",
    "            new_id = new_id[:-1]\n",
    "\n",
    "    #7\n",
    "    while len(new_id) < 3:\n",
    "        s = new_id\n",
    "        new_id = s + new_id[-1]\n",
    "\n",
    "    answer = new_id\n",
    "    return answer"
   ]
  },
  {
   "cell_type": "code",
   "execution_count": 111,
   "metadata": {},
   "outputs": [
    {
     "name": "stdout",
     "output_type": "stream",
     "text": [
      "case1: ...!@bat#*..y.abcdefghijklm\n",
      "case2: ...bat..y.abcdefghijklm\n",
      "case3: .bat.y.abcdefghijklm\n",
      "case4: bat.y.abcdefghijklm\n",
      "case5: bat.y.abcdefghijklm\n",
      "case6: bat.y.abcdefghi\n",
      "case7: bat.y.abcdefghi\n",
      "[]\n"
     ]
    },
    {
     "data": {
      "text/plain": [
       "'bat.y.abcdefghi'"
      ]
     },
     "execution_count": 111,
     "metadata": {},
     "output_type": "execute_result"
    }
   ],
   "source": [
    "# 정규표현식(Regular Expression)\n",
    "import re\n",
    "\n",
    "def solution(new_id) :\n",
    "    #1\n",
    "    new_id = new_id.lower()\n",
    "    print(\"case1: \" + new_id)\n",
    "\n",
    "    #2\n",
    "    new_id = re.sub('[^0-9a-z\\-_.]*', \"\", new_id)\n",
    "    print(\"case2: \" + new_id)\n",
    "\n",
    "    #3\n",
    "    new_id = re.sub('[.]+', \".\", new_id)\n",
    "    print(\"case3: \" + new_id)\n",
    "\n",
    "    #4\n",
    "    new_id = re.sub('^[.]|[.]$', \"\", new_id)\n",
    "    print(\"case4: \" + new_id)\n",
    "\n",
    "    #5\n",
    "    if new_id == '':\n",
    "        new_id += 'a'\n",
    "    print(\"case5: \" + new_id)\n",
    "    \n",
    "    #6\n",
    "    if len(new_id) >= 16:\n",
    "        new_id = new_id[:15]\n",
    "        if new_id[-1] == '.' :\n",
    "            new_id = re.sub('[.]$', \"\", new_id)\n",
    "    print(\"case6: \" + new_id)\n",
    "\n",
    "    #7\n",
    "    if len(new_id) <= 2:\n",
    "        while(len(new_id) < 3):\n",
    "            new_id += new_id[-1]\n",
    "    print(\"case7: \" + new_id)\n",
    "\n",
    "    test = re.findall(r'^e&a$', \"asdf.eijfa.efwef\")\n",
    "    print(test)\n",
    "\n",
    "    answer = new_id\n",
    "    return answer\n",
    "\n",
    "solution(\"...!@BaT#*..y.abcdefghijklm\")\n",
    "# solution(\".=.=.\")\n",
    "\n",
    "        "
   ]
  },
  {
   "cell_type": "code",
   "execution_count": 119,
   "metadata": {},
   "outputs": [
    {
     "name": "stdout",
     "output_type": "stream",
     "text": [
      "['sdfa wefj.iefjaoijd.lsdkjfawoiefj.']\n"
     ]
    }
   ],
   "source": [
    "import re\n",
    "data = \"asdfa wefj.iefjaoijd.lsdkjfawoiefj..\"\n",
    "test = re.findall('^.(.*?)\\.$', data)\n",
    "print(test)"
   ]
  },
  {
   "cell_type": "code",
   "execution_count": 142,
   "metadata": {},
   "outputs": [
    {
     "data": {
      "text/plain": [
       "15"
      ]
     },
     "execution_count": 142,
     "metadata": {},
     "output_type": "execute_result"
    }
   ],
   "source": [
    "from functools import reduce\n",
    "\n",
    "numbers = [1,2,3,4,5]\n",
    "result = reduce(lambda x,y: x + y, numbers)\n",
    "result\n",
    "# 15\n"
   ]
  }
 ],
 "metadata": {
  "kernelspec": {
   "display_name": "ICT",
   "language": "python",
   "name": "python3"
  },
  "language_info": {
   "codemirror_mode": {
    "name": "ipython",
    "version": 3
   },
   "file_extension": ".py",
   "mimetype": "text/x-python",
   "name": "python",
   "nbconvert_exporter": "python",
   "pygments_lexer": "ipython3",
   "version": "3.9.7"
  },
  "orig_nbformat": 4
 },
 "nbformat": 4,
 "nbformat_minor": 2
}
